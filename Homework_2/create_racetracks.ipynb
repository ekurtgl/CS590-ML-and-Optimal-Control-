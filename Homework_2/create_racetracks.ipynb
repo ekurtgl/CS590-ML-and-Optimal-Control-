{
 "cells": [
  {
   "cell_type": "code",
   "execution_count": 17,
   "id": "bfa5fb53",
   "metadata": {},
   "outputs": [],
   "source": [
    "import numpy as np\n",
    "import matplotlib.pyplot as plt"
   ]
  },
  {
   "cell_type": "code",
   "execution_count": 39,
   "id": "91f4296e",
   "metadata": {},
   "outputs": [
    {
     "data": {
      "text/plain": [
       "<matplotlib.image.AxesImage at 0x1fe4b216d00>"
      ]
     },
     "execution_count": 39,
     "metadata": {},
     "output_type": "execute_result"
    },
    {
     "data": {
      "image/png": "[encoded data removed]",
      "text/plain": [
       "<Figure size 432x288 with 1 Axes>"
      ]
     },
     "metadata": {
      "needs_background": "light"
     },
     "output_type": "display_data"
    }
   ],
   "source": [
    "START = 2\n",
    "FINISH = 3\n",
    "TRACK = 1\n",
    "BOUNDARY = 0\n",
    "\n",
    "track = np.zeros((30,32)).astype(int)\n",
    "track[:9, -1] = FINISH\n",
    "track[-1, :23] = START\n",
    "track[-3:-1, :23] = TRACK\n",
    "track[-4, 1:23] = TRACK\n",
    "track[-5, 2:23] = TRACK\n",
    "track[-6, 3:23] = TRACK\n",
    "track[-7, 4:23] = TRACK\n",
    "track[-8, 5:23] = TRACK\n",
    "track[-9, 6:23] = TRACK\n",
    "track[-10, 7:23] = TRACK\n",
    "track[-11, 8:23] = TRACK\n",
    "track[-12, 9:23] = TRACK\n",
    "track[-13, 10:23] = TRACK\n",
    "track[-14, 11:23] = TRACK\n",
    "track[-15, 12:23] = TRACK\n",
    "track[-16, 13:23] = TRACK\n",
    "track[-17, 14:23] = TRACK\n",
    "track[-18, 14:24] = TRACK\n",
    "track[-19, 14:26] = TRACK\n",
    "track[-20, 14:27] = TRACK\n",
    "track[-21, 14:30] = TRACK\n",
    "track[-22, 13:31] = TRACK\n",
    "track[-23, 12:31] = TRACK\n",
    "track[3:7, 11:31] = TRACK\n",
    "track[2, 12:31] = TRACK\n",
    "track[1, 13:31] = TRACK\n",
    "track[0, 16:31] = TRACK\n",
    "plt.imshow(track, interpolation='none')"
   ]
  },
  {
   "cell_type": "code",
   "execution_count": 40,
   "id": "29056c40",
   "metadata": {},
   "outputs": [
    {
     "data": {
      "text/plain": [
       "'00000000000000001111111111111113\\n00000000000001111111111111111113\\n00000000000011111111111111111113\\n00000000000111111111111111111113\\n00000000000111111111111111111113\\n00000000000111111111111111111113\\n00000000000111111111111111111113\\n00000000000011111111111111111113\\n00000000000001111111111111111113\\n00000000000000111111111111111100\\n00000000000000111111111111100000\\n00000000000000111111111111000000\\n00000000000000111111111100000000\\n00000000000000111111111000000000\\n00000000000001111111111000000000\\n00000000000011111111111000000000\\n00000000000111111111111000000000\\n00000000001111111111111000000000\\n00000000011111111111111000000000\\n00000000111111111111111000000000\\n00000001111111111111111000000000\\n00000011111111111111111000000000\\n00000111111111111111111000000000\\n00001111111111111111111000000000\\n00011111111111111111111000000000\\n00111111111111111111111000000000\\n01111111111111111111111000000000\\n11111111111111111111111000000000\\n11111111111111111111111000000000\\n22222222222222222222222000000000\\n'"
      ]
     },
     "execution_count": 40,
     "metadata": {},
     "output_type": "execute_result"
    }
   ],
   "source": [
    "track_str = ''\n",
    "for i in range(track.shape[0]):\n",
    "    row = ''\n",
    "    for j in range(track.shape[1]):\n",
    "        row += str(track[i, j])\n",
    "    track_str += row + '\\n'\n",
    "track_str"
   ]
  },
  {
   "cell_type": "code",
   "execution_count": 41,
   "id": "3ef687c3",
   "metadata": {},
   "outputs": [],
   "source": [
    "text_file = open(\"racetrack_2.txt\", \"w\")\n",
    "n = text_file.write(track_str)\n",
    "text_file.close()"
   ]
  },
  {
   "cell_type": "code",
   "execution_count": null,
   "id": "f904d149",
   "metadata": {},
   "outputs": [],
   "source": []
  }
 ],
 "metadata": {
  "kernelspec": {
   "display_name": "Python 3",
   "language": "python",
   "name": "python3"
  },
  "language_info": {
   "codemirror_mode": {
    "name": "ipython",
    "version": 3
   },
   "file_extension": ".py",
   "mimetype": "text/x-python",
   "name": "python",
   "nbconvert_exporter": "python",
   "pygments_lexer": "ipython3",
   "version": "3.8.10"
  }
 },
 "nbformat": 4,
 "nbformat_minor": 5
}
